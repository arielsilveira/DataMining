{
  "nbformat": 4,
  "nbformat_minor": 0,
  "metadata": {
    "colab": {
      "name": "Titanic.ipynb",
      "provenance": [],
      "collapsed_sections": [],
      "mount_file_id": "1CPJzdEIwB1_k0qpFUYX9utfSuPGY-kcS",
      "authorship_tag": "ABX9TyNW/dLPfHn/rprhBZqzwxvQ",
      "include_colab_link": true
    },
    "kernelspec": {
      "name": "python3",
      "display_name": "Python 3"
    },
    "language_info": {
      "name": "python"
    }
  },
  "cells": [
    {
      "cell_type": "markdown",
      "metadata": {
        "id": "view-in-github",
        "colab_type": "text"
      },
      "source": [
        "<a href=\"https://colab.research.google.com/github/arielsilveira/DataMining/blob/main/Titanic.ipynb\" target=\"_parent\"><img src=\"https://colab.research.google.com/assets/colab-badge.svg\" alt=\"Open In Colab\"/></a>"
      ]
    },
    {
      "cell_type": "code",
      "metadata": {
        "id": "S_J_iG1G-dwo"
      },
      "source": [
        "import types\n",
        "import numpy\n",
        "from google.colab import drive\n",
        "import pandas as pd\n",
        "import matplotlib.pyplot as plt\n",
        "from collections import Counter\n",
        "\n",
        "def remove_none(attr: list) -> list:\n",
        "    return [i for i in attr if i != None and str(i) != 'nan']\n",
        "\n",
        "def min_value(attr: list) -> int:\n",
        "    return min(remove_none(attr))\n",
        "\n",
        "def max_value(attr: list) -> int:\n",
        "    return max(remove_none(attr))\n",
        "\n",
        "def interval(attr: list) -> tuple:\n",
        "    return (min(attr), max(attr))\n",
        "\n",
        "def print_graph(vet: list):\n",
        "    plt.plot(vet, 'o')\n",
        "    plt.show()\n",
        "\n",
        "def repeat_values(vet: list) -> dict:\n",
        "    return dict(Counter(vet))\n",
        "\n",
        "attr_type = {\n",
        "    \"id\": \"nominal\",\n",
        "    \"survived\": \"binario\",\n",
        "    \"pclass\": \"discreto\",\n",
        "    \"name\": \"string\",\n",
        "    \"sex\": \"string\",\n",
        "    \"age\": \"continuo\",\n",
        "    \"sibSp\": \"discreto\",\n",
        "    \"parch\": \"discreto\",\n",
        "    \"ticket\": \"string\",\n",
        "    \"fare\": \"continuo\",\n",
        "    \"cabin\": \"string\",\n",
        "    \"embarked\": \"string\",\n",
        "}"
      ],
      "execution_count": null,
      "outputs": []
    },
    {
      "cell_type": "code",
      "metadata": {
        "colab": {
          "base_uri": "https://localhost:8080/",
          "height": 300
        },
        "id": "LciV-wk1eUCU",
        "outputId": "6320f653-aded-4152-9d0c-351ca17bff7a"
      },
      "source": [
        "f = pd.read_csv('/content/drive/MyDrive/Colab Notebooks/Titanic/train.csv')\n",
        "\n",
        "f.describe()\n",
        " "
      ],
      "execution_count": null,
      "outputs": [
        {
          "output_type": "execute_result",
          "data": {
            "text/html": [
              "<div>\n",
              "<style scoped>\n",
              "    .dataframe tbody tr th:only-of-type {\n",
              "        vertical-align: middle;\n",
              "    }\n",
              "\n",
              "    .dataframe tbody tr th {\n",
              "        vertical-align: top;\n",
              "    }\n",
              "\n",
              "    .dataframe thead th {\n",
              "        text-align: right;\n",
              "    }\n",
              "</style>\n",
              "<table border=\"1\" class=\"dataframe\">\n",
              "  <thead>\n",
              "    <tr style=\"text-align: right;\">\n",
              "      <th></th>\n",
              "      <th>PassengerId</th>\n",
              "      <th>Survived</th>\n",
              "      <th>Pclass</th>\n",
              "      <th>Age</th>\n",
              "      <th>SibSp</th>\n",
              "      <th>Parch</th>\n",
              "      <th>Fare</th>\n",
              "    </tr>\n",
              "  </thead>\n",
              "  <tbody>\n",
              "    <tr>\n",
              "      <th>count</th>\n",
              "      <td>891.000000</td>\n",
              "      <td>891.000000</td>\n",
              "      <td>891.000000</td>\n",
              "      <td>714.000000</td>\n",
              "      <td>891.000000</td>\n",
              "      <td>891.000000</td>\n",
              "      <td>891.000000</td>\n",
              "    </tr>\n",
              "    <tr>\n",
              "      <th>mean</th>\n",
              "      <td>446.000000</td>\n",
              "      <td>0.383838</td>\n",
              "      <td>2.308642</td>\n",
              "      <td>29.699118</td>\n",
              "      <td>0.523008</td>\n",
              "      <td>0.381594</td>\n",
              "      <td>32.204208</td>\n",
              "    </tr>\n",
              "    <tr>\n",
              "      <th>std</th>\n",
              "      <td>257.353842</td>\n",
              "      <td>0.486592</td>\n",
              "      <td>0.836071</td>\n",
              "      <td>14.526497</td>\n",
              "      <td>1.102743</td>\n",
              "      <td>0.806057</td>\n",
              "      <td>49.693429</td>\n",
              "    </tr>\n",
              "    <tr>\n",
              "      <th>min</th>\n",
              "      <td>1.000000</td>\n",
              "      <td>0.000000</td>\n",
              "      <td>1.000000</td>\n",
              "      <td>0.420000</td>\n",
              "      <td>0.000000</td>\n",
              "      <td>0.000000</td>\n",
              "      <td>0.000000</td>\n",
              "    </tr>\n",
              "    <tr>\n",
              "      <th>25%</th>\n",
              "      <td>223.500000</td>\n",
              "      <td>0.000000</td>\n",
              "      <td>2.000000</td>\n",
              "      <td>20.125000</td>\n",
              "      <td>0.000000</td>\n",
              "      <td>0.000000</td>\n",
              "      <td>7.910400</td>\n",
              "    </tr>\n",
              "    <tr>\n",
              "      <th>50%</th>\n",
              "      <td>446.000000</td>\n",
              "      <td>0.000000</td>\n",
              "      <td>3.000000</td>\n",
              "      <td>28.000000</td>\n",
              "      <td>0.000000</td>\n",
              "      <td>0.000000</td>\n",
              "      <td>14.454200</td>\n",
              "    </tr>\n",
              "    <tr>\n",
              "      <th>75%</th>\n",
              "      <td>668.500000</td>\n",
              "      <td>1.000000</td>\n",
              "      <td>3.000000</td>\n",
              "      <td>38.000000</td>\n",
              "      <td>1.000000</td>\n",
              "      <td>0.000000</td>\n",
              "      <td>31.000000</td>\n",
              "    </tr>\n",
              "    <tr>\n",
              "      <th>max</th>\n",
              "      <td>891.000000</td>\n",
              "      <td>1.000000</td>\n",
              "      <td>3.000000</td>\n",
              "      <td>80.000000</td>\n",
              "      <td>8.000000</td>\n",
              "      <td>6.000000</td>\n",
              "      <td>512.329200</td>\n",
              "    </tr>\n",
              "  </tbody>\n",
              "</table>\n",
              "</div>"
            ],
            "text/plain": [
              "       PassengerId    Survived      Pclass  ...       SibSp       Parch        Fare\n",
              "count   891.000000  891.000000  891.000000  ...  891.000000  891.000000  891.000000\n",
              "mean    446.000000    0.383838    2.308642  ...    0.523008    0.381594   32.204208\n",
              "std     257.353842    0.486592    0.836071  ...    1.102743    0.806057   49.693429\n",
              "min       1.000000    0.000000    1.000000  ...    0.000000    0.000000    0.000000\n",
              "25%     223.500000    0.000000    2.000000  ...    0.000000    0.000000    7.910400\n",
              "50%     446.000000    0.000000    3.000000  ...    0.000000    0.000000   14.454200\n",
              "75%     668.500000    1.000000    3.000000  ...    1.000000    0.000000   31.000000\n",
              "max     891.000000    1.000000    3.000000  ...    8.000000    6.000000  512.329200\n",
              "\n",
              "[8 rows x 7 columns]"
            ]
          },
          "metadata": {},
          "execution_count": 71
        }
      ]
    },
    {
      "cell_type": "code",
      "metadata": {
        "colab": {
          "base_uri": "https://localhost:8080/",
          "height": 404
        },
        "id": "DR7xgo5y4CUO",
        "outputId": "ea966e12-8bbe-4684-b2f3-c3c9ae265304"
      },
      "source": [
        "'''\n",
        "b) Para atributo numérico, \n",
        "    identifique qual o seu intervalo de valores, \n",
        "    valor médio, máximo, mínimo, desvio-padrão e valores aberrantes. \n",
        "    Faça gráficos que permitam visualizar a distribuição dos valores.\n",
        "'''\n",
        "print(\"--- Pclass ---\")\n",
        "print(\"Intervalo: \", interval(f.Pclass))\n",
        "print(\"Valor médio: \", f.Pclass.mean())\n",
        "print(\"Máximo: \", f.Pclass.max())\n",
        "print(\"Minimo: \", f.Pclass.min())\n",
        "print(\"Desvio Padrão: \", f.Pclass.std())\n",
        "print(\"Valores Aberrantes: \", f.Pclass.isna().sum())\n",
        "print(\"Gráfico\")\n",
        "print_graph(f.Pclass)"
      ],
      "execution_count": null,
      "outputs": [
        {
          "output_type": "stream",
          "text": [
            "--- Pclass ---\n",
            "Intervalo:  (1, 3)\n",
            "Valor médio:  2.308641975308642\n",
            "Máximo:  3\n",
            "Minimo:  1\n",
            "Desvio Padrão:  0.8360712409770513\n",
            "Valores Aberrantes:  0\n",
            "Gráfico\n"
          ],
          "name": "stdout"
        },
        {
          "output_type": "display_data",
          "data": {
            "image/png": "[encoded data removed]",
            "text/plain": [
              "<Figure size 432x288 with 1 Axes>"
            ]
          },
          "metadata": {}
        }
      ]
    },
    {
      "cell_type": "code",
      "metadata": {
        "colab": {
          "base_uri": "https://localhost:8080/",
          "height": 404
        },
        "id": "EFtKKJlhyRPm",
        "outputId": "4832c895-da1b-4725-8b52-d345cfadd85f"
      },
      "source": [
        "print(\"--- Age ---\")\n",
        "print(\"Intervalo: \", interval(f.Age))\n",
        "print(\"Valor médio: \", f.Age.mean())\n",
        "print(\"Máximo: \", f.Age.max())\n",
        "print(\"Minimo: \", f.Age.min())\n",
        "print(\"Desvio Padrão: \", f.Age.std())\n",
        "print(\"Valores Aberrantes: \", f.Age.isna().sum())\n",
        "print(\"Gráfico\")\n",
        "print_graph(sorted(f.Age.dropna()))"
      ],
      "execution_count": null,
      "outputs": [
        {
          "output_type": "stream",
          "text": [
            "--- Age ---\n",
            "Intervalo:  (0.42, 80.0)\n",
            "Valor médio:  29.69911764705882\n",
            "Máximo:  80.0\n",
            "Minimo:  0.42\n",
            "Desvio Padrão:  14.526497332334044\n",
            "Valores Aberrantes:  177\n",
            "Gráfico\n"
          ],
          "name": "stdout"
        },
        {
          "output_type": "display_data",
          "data": {
            "image/png": "[encoded data removed]",
            "text/plain": [
              "<Figure size 432x288 with 1 Axes>"
            ]
          },
          "metadata": {}
        }
      ]
    },
    {
      "cell_type": "code",
      "metadata": {
        "colab": {
          "base_uri": "https://localhost:8080/",
          "height": 404
        },
        "id": "qLbTSE9OyVAN",
        "outputId": "14c7b399-acaf-4e6b-a8ea-b8a920d81628"
      },
      "source": [
        "print(\"--- Fare ---\")\n",
        "print(\"Intervalo: \", interval(f.Fare))\n",
        "print(\"Valor médio: \", f.Fare.mean())\n",
        "print(\"Máximo: \", f.Fare.max())\n",
        "print(\"Minimo: \", f.Fare.min())\n",
        "print(\"Desvio Padrão: \", f.Fare.std())\n",
        "print(\"Valores Aberrantes: \", f.Fare.isna().sum())\n",
        "print(\"Gráfico\")\n",
        "print_graph(sorted(f.Fare))"
      ],
      "execution_count": null,
      "outputs": [
        {
          "output_type": "stream",
          "text": [
            "--- Fare ---\n",
            "Intervalo:  (0.0, 512.3292)\n",
            "Valor médio:  32.2042079685746\n",
            "Máximo:  512.3292\n",
            "Minimo:  0.0\n",
            "Desvio Padrão:  49.693428597180905\n",
            "Valores Aberrantes:  0\n",
            "Gráfico\n"
          ],
          "name": "stdout"
        },
        {
          "output_type": "display_data",
          "data": {
            "image/png": "[encoded data removed]",
            "text/plain": [
              "<Figure size 432x288 with 1 Axes>"
            ]
          },
          "metadata": {}
        }
      ]
    },
    {
      "cell_type": "code",
      "metadata": {
        "colab": {
          "base_uri": "https://localhost:8080/",
          "height": 404
        },
        "id": "EvNyclZ9plIb",
        "outputId": "36efb789-fd1a-4bfa-b249-5ebbe05b4a3c"
      },
      "source": [
        "print(\"--- SibSp ---\")\n",
        "print(\"Intervalo: \", interval(f.SibSp))\n",
        "print(\"Valor médio: \", f.SibSp.mean())\n",
        "print(\"Máximo: \", f.SibSp.max())\n",
        "print(\"Minimo: \", f.SibSp.min())\n",
        "print(\"Desvio Padrão: \", f.SibSp.std())\n",
        "print(\"Valores Aberrantes: \", f.SibSp.isna().sum())\n",
        "print(\"Gráfico\")\n",
        "print_graph(f.SibSp)"
      ],
      "execution_count": null,
      "outputs": [
        {
          "output_type": "stream",
          "text": [
            "--- SibSp ---\n",
            "Intervalo:  (0, 8)\n",
            "Valor médio:  0.5230078563411896\n",
            "Máximo:  8\n",
            "Minimo:  0\n",
            "Desvio Padrão:  1.1027434322934275\n",
            "Valores Aberrantes:  0\n",
            "Gráfico\n"
          ],
          "name": "stdout"
        },
        {
          "output_type": "display_data",
          "data": {
            "image/png": "[encoded data removed]",
            "text/plain": [
              "<Figure size 432x288 with 1 Axes>"
            ]
          },
          "metadata": {}
        }
      ]
    },
    {
      "cell_type": "code",
      "metadata": {
        "colab": {
          "base_uri": "https://localhost:8080/",
          "height": 404
        },
        "id": "V1xvXF8BptqA",
        "outputId": "4d10f428-facc-4075-dc77-3927951abe2f"
      },
      "source": [
        "print(\"--- Parch ---\")\n",
        "print(\"Intervalo: \", interval(f.Parch))\n",
        "print(\"Valor médio: \", f.Parch.mean())\n",
        "print(\"Máximo: \", f.Parch.max())\n",
        "print(\"Minimo: \", f.Parch.min())\n",
        "print(\"Desvio Padrão: \", f.Parch.std())\n",
        "print(\"Valores Aberrantes: \", f.Parch.isna().sum())\n",
        "print(\"Gráfico\")\n",
        "print_graph(f.Parch)\n"
      ],
      "execution_count": null,
      "outputs": [
        {
          "output_type": "stream",
          "text": [
            "--- Parch ---\n",
            "Intervalo:  (0, 6)\n",
            "Valor médio:  0.38159371492704824\n",
            "Máximo:  6\n",
            "Minimo:  0\n",
            "Desvio Padrão:  0.8060572211299559\n",
            "Valores Aberrantes:  0\n",
            "Gráfico\n"
          ],
          "name": "stdout"
        },
        {
          "output_type": "display_data",
          "data": {
            "image/png": "[encoded data removed]",
            "text/plain": [
              "<Figure size 432x288 with 1 Axes>"
            ]
          },
          "metadata": {}
        }
      ]
    },
    {
      "cell_type": "code",
      "metadata": {
        "id": "WLXhJdV3ptw3",
        "colab": {
          "base_uri": "https://localhost:8080/"
        },
        "outputId": "eefbaf89-7d31-4ce2-f55a-9db3074b6bef"
      },
      "source": [
        "'''\n",
        "c) Para os atributos binários, nominais e ordinais, \n",
        "    quais os valores possíveis e a popularidade de cada.\n",
        "'''\n",
        "\n",
        "print(\"--- Survived ---\")\n",
        "print(\"Tipo de atributo: \", attr_type[\"survived\"])\n",
        "print(repeat_values(f.Survived))"
      ],
      "execution_count": null,
      "outputs": [
        {
          "output_type": "stream",
          "text": [
            "--- Survived ---\n",
            "Tipo de atributo:  binario\n",
            "{0: 549, 1: 342}\n"
          ],
          "name": "stdout"
        }
      ]
    },
    {
      "cell_type": "code",
      "metadata": {
        "colab": {
          "base_uri": "https://localhost:8080/"
        },
        "id": "GObc41OPQf5f",
        "outputId": "79b56511-6f5a-4073-ac73-cfd025d9a77b"
      },
      "source": [
        "print(\"--- Sex ---\")\n",
        "print(\"Tipo de atributo: \", attr_type[\"sex\"])\n",
        "print(repeat_values(f.Sex))"
      ],
      "execution_count": null,
      "outputs": [
        {
          "output_type": "stream",
          "text": [
            "--- Sex ---\n",
            "Tipo de atributo:  string\n",
            "{'male': 577, 'female': 314}\n"
          ],
          "name": "stdout"
        }
      ]
    },
    {
      "cell_type": "code",
      "metadata": {
        "colab": {
          "base_uri": "https://localhost:8080/"
        },
        "id": "Zl5jFJ5UOcGR",
        "outputId": "06daf6d8-067f-42c8-f4dd-e3202ee73677"
      },
      "source": [
        "print(\"--- Cabin ---\")\n",
        "print(\"Tipo de atributo: \", attr_type[\"cabin\"])\n",
        "print(repeat_values(f.Cabin))\n",
        "f.Cabin.isnull().sum()"
      ],
      "execution_count": null,
      "outputs": [
        {
          "output_type": "stream",
          "text": [
            "--- Cabin ---\n",
            "Tipo de atributo:  string\n",
            "{nan: 687, 'C85': 1, 'C123': 2, 'E46': 1, 'G6': 4, 'C103': 1, 'D56': 1, 'A6': 1, 'C23 C25 C27': 4, 'B78': 1, 'D33': 2, 'B30': 1, 'C52': 2, 'B28': 2, 'C83': 2, 'F33': 3, 'F G73': 2, 'E31': 1, 'A5': 1, 'D10 D12': 1, 'D26': 2, 'C110': 1, 'B58 B60': 2, 'E101': 3, 'F E69': 1, 'D47': 1, 'B86': 1, 'F2': 3, 'C2': 2, 'E33': 2, 'B19': 1, 'A7': 1, 'C49': 1, 'F4': 2, 'A32': 1, 'B4': 1, 'B80': 1, 'A31': 1, 'D36': 2, 'D15': 1, 'C93': 2, 'C78': 2, 'D35': 2, 'C87': 1, 'B77': 2, 'E67': 2, 'B94': 1, 'C125': 2, 'C99': 1, 'C118': 1, 'D7': 1, 'A19': 1, 'B49': 2, 'D': 3, 'C22 C26': 3, 'C106': 1, 'C65': 2, 'E36': 1, 'C54': 1, 'B57 B59 B63 B66': 2, 'C7': 1, 'E34': 1, 'C32': 1, 'B18': 2, 'C124': 2, 'C91': 1, 'E40': 1, 'T': 1, 'C128': 1, 'D37': 1, 'B35': 2, 'E50': 1, 'C82': 1, 'B96 B98': 4, 'E10': 1, 'E44': 2, 'A34': 1, 'C104': 1, 'C111': 1, 'C92': 2, 'E38': 1, 'D21': 1, 'E12': 1, 'E63': 1, 'A14': 1, 'B37': 1, 'C30': 1, 'D20': 2, 'B79': 1, 'E25': 2, 'D46': 1, 'B73': 1, 'C95': 1, 'B38': 1, 'B39': 1, 'B22': 2, 'C86': 1, 'C70': 1, 'A16': 1, 'C101': 1, 'C68': 2, 'A10': 1, 'E68': 1, 'B41': 1, 'A20': 1, 'D19': 1, 'D50': 1, 'D9': 1, 'A23': 1, 'B50': 1, 'A26': 1, 'D48': 1, 'E58': 1, 'C126': 2, 'B71': 1, 'B51 B53 B55': 2, 'D49': 1, 'B5': 2, 'B20': 2, 'F G63': 1, 'C62 C64': 1, 'E24': 2, 'C90': 1, 'C45': 1, 'E8': 2, 'B101': 1, 'D45': 1, 'C46': 1, 'D30': 1, 'E121': 2, 'D11': 1, 'E77': 1, 'F38': 1, 'B3': 1, 'D6': 1, 'B82 B84': 1, 'D17': 2, 'A36': 1, 'B102': 1, 'B69': 1, 'E49': 1, 'C47': 1, 'D28': 1, 'E17': 1, 'A24': 1, 'C50': 1, 'B42': 1, 'C148': 1}\n"
          ],
          "name": "stdout"
        },
        {
          "output_type": "execute_result",
          "data": {
            "text/plain": [
              "687"
            ]
          },
          "metadata": {},
          "execution_count": 79
        }
      ]
    },
    {
      "cell_type": "code",
      "metadata": {
        "colab": {
          "base_uri": "https://localhost:8080/"
        },
        "id": "MFlaa7y1Rkbp",
        "outputId": "64c89ec7-e75c-4a35-bdcf-2c1c4714d961"
      },
      "source": [
        "print(\"--- Embarked ---\")\n",
        "print(\"Tipo de atributo: \", attr_type[\"embarked\"])\n",
        "print(repeat_values(f.Embarked))\n",
        "f.Embarked.isnull().sum()"
      ],
      "execution_count": null,
      "outputs": [
        {
          "output_type": "stream",
          "text": [
            "--- Embarked ---\n",
            "Tipo de atributo:  string\n",
            "{'S': 644, 'C': 168, 'Q': 77, nan: 2}\n"
          ],
          "name": "stdout"
        },
        {
          "output_type": "execute_result",
          "data": {
            "text/plain": [
              "2"
            ]
          },
          "metadata": {},
          "execution_count": 80
        }
      ]
    },
    {
      "cell_type": "code",
      "metadata": {
        "id": "po6qDN3BqZlh",
        "colab": {
          "base_uri": "https://localhost:8080/",
          "height": 282
        },
        "outputId": "58003cbe-233e-4eca-f6f5-0b139e321254"
      },
      "source": [
        "'''\n",
        "d) Identifique os valores ausentes, aberrantes e inconsistências.\n",
        "'''\n",
        "import matplotlib\n",
        "matplotlib.style.use('ggplot')\n",
        "\n",
        "f.boxplot(column=\"PassengerId\")"
      ],
      "execution_count": null,
      "outputs": [
        {
          "output_type": "execute_result",
          "data": {
            "text/plain": [
              "<matplotlib.axes._subplots.AxesSubplot at 0x7f7bf19db650>"
            ]
          },
          "metadata": {},
          "execution_count": 81
        },
        {
          "output_type": "display_data",
          "data": {
            "image/png": "[encoded data removed]",
            "text/plain": [
              "<Figure size 432x288 with 1 Axes>"
            ]
          },
          "metadata": {}
        }
      ]
    },
    {
      "cell_type": "code",
      "metadata": {
        "colab": {
          "base_uri": "https://localhost:8080/",
          "height": 282
        },
        "id": "RW-GLOq2fCE7",
        "outputId": "b2156f7b-0987-4307-e5a6-3d6ade704c5b"
      },
      "source": [
        "f.boxplot(column=\"Survived\")"
      ],
      "execution_count": null,
      "outputs": [
        {
          "output_type": "execute_result",
          "data": {
            "text/plain": [
              "<matplotlib.axes._subplots.AxesSubplot at 0x7f7bf22e2350>"
            ]
          },
          "metadata": {},
          "execution_count": 66
        },
        {
          "output_type": "display_data",
          "data": {
            "image/png": "[encoded data removed]",
            "text/plain": [
              "<Figure size 432x288 with 1 Axes>"
            ]
          },
          "metadata": {}
        }
      ]
    },
    {
      "cell_type": "code",
      "metadata": {
        "colab": {
          "base_uri": "https://localhost:8080/",
          "height": 282
        },
        "id": "g6z8MQDbfDoI",
        "outputId": "760bde81-50bf-4677-abec-348d6a6d8b81"
      },
      "source": [
        "f.boxplot(column=\"Pclass\")"
      ],
      "execution_count": null,
      "outputs": [
        {
          "output_type": "execute_result",
          "data": {
            "text/plain": [
              "<matplotlib.axes._subplots.AxesSubplot at 0x7f7bf207ff10>"
            ]
          },
          "metadata": {},
          "execution_count": 69
        },
        {
          "output_type": "display_data",
          "data": {
            "image/png": "[encoded data removed]",
            "text/plain": [
              "<Figure size 432x288 with 1 Axes>"
            ]
          },
          "metadata": {}
        }
      ]
    },
    {
      "cell_type": "code",
      "metadata": {
        "colab": {
          "base_uri": "https://localhost:8080/",
          "height": 282
        },
        "id": "4gI3DWXSfFHT",
        "outputId": "e5a1233e-97cc-4c7a-e230-5ddf8985cde6"
      },
      "source": [
        "f.boxplot(column=\"Age\")"
      ],
      "execution_count": null,
      "outputs": [
        {
          "output_type": "execute_result",
          "data": {
            "text/plain": [
              "<matplotlib.axes._subplots.AxesSubplot at 0x7f7bf218cf50>"
            ]
          },
          "metadata": {},
          "execution_count": 68
        },
        {
          "output_type": "display_data",
          "data": {
            "image/png": "[encoded data removed]",
            "text/plain": [
              "<Figure size 432x288 with 1 Axes>"
            ]
          },
          "metadata": {}
        }
      ]
    },
    {
      "cell_type": "code",
      "metadata": {
        "colab": {
          "base_uri": "https://localhost:8080/",
          "height": 282
        },
        "id": "9Ni4L_0AfGG2",
        "outputId": "3fe18dc6-8391-445e-edfe-70277bc450fb"
      },
      "source": [
        "f.boxplot(column=\"SibSp\")"
      ],
      "execution_count": null,
      "outputs": [
        {
          "output_type": "execute_result",
          "data": {
            "text/plain": [
              "<matplotlib.axes._subplots.AxesSubplot at 0x7f7bf2270050>"
            ]
          },
          "metadata": {},
          "execution_count": 63
        },
        {
          "output_type": "display_data",
          "data": {
            "image/png": "[encoded data removed]",
            "text/plain": [
              "<Figure size 432x288 with 1 Axes>"
            ]
          },
          "metadata": {}
        }
      ]
    },
    {
      "cell_type": "code",
      "metadata": {
        "colab": {
          "base_uri": "https://localhost:8080/",
          "height": 282
        },
        "id": "AqL3rn0mfIQa",
        "outputId": "adbae0a0-b070-4663-ab42-ed00c2e624e5"
      },
      "source": [
        "f.boxplot(column=\"Parch\")"
      ],
      "execution_count": null,
      "outputs": [
        {
          "output_type": "execute_result",
          "data": {
            "text/plain": [
              "<matplotlib.axes._subplots.AxesSubplot at 0x7f7bf1cc4e10>"
            ]
          },
          "metadata": {},
          "execution_count": 65
        },
        {
          "output_type": "display_data",
          "data": {
            "image/png": "[encoded data removed]",
            "text/plain": [
              "<Figure size 432x288 with 1 Axes>"
            ]
          },
          "metadata": {}
        }
      ]
    },
    {
      "cell_type": "code",
      "metadata": {
        "colab": {
          "base_uri": "https://localhost:8080/",
          "height": 282
        },
        "id": "rLOKyt4rfKmm",
        "outputId": "451c9b10-4b6c-43fa-bae9-543f265768e5"
      },
      "source": [
        "f.boxplot(column=\"Fare\")"
      ],
      "execution_count": null,
      "outputs": [
        {
          "output_type": "execute_result",
          "data": {
            "text/plain": [
              "<matplotlib.axes._subplots.AxesSubplot at 0x7f7bf1cd57d0>"
            ]
          },
          "metadata": {},
          "execution_count": 64
        },
        {
          "output_type": "display_data",
          "data": {
            "image/png": "[encoded data removed]",
            "text/plain": [
              "<Figure size 432x288 with 1 Axes>"
            ]
          },
          "metadata": {}
        }
      ]
    },
    {
      "cell_type": "code",
      "metadata": {
        "colab": {
          "base_uri": "https://localhost:8080/",
          "height": 337
        },
        "id": "zHwo08cCfRNf",
        "outputId": "f0e7067e-e56c-47f8-9da3-c821f1dd134f"
      },
      "source": [
        "f.boxplot()"
      ],
      "execution_count": null,
      "outputs": [
        {
          "output_type": "stream",
          "text": [
            "/usr/local/lib/python3.7/dist-packages/numpy/core/_asarray.py:83: VisibleDeprecationWarning: Creating an ndarray from ragged nested sequences (which is a list-or-tuple of lists-or-tuples-or ndarrays with different lengths or shapes) is deprecated. If you meant to do this, you must specify 'dtype=object' when creating the ndarray\n",
            "  return array(a, dtype, copy=False, order=order)\n"
          ],
          "name": "stderr"
        },
        {
          "output_type": "execute_result",
          "data": {
            "text/plain": [
              "<matplotlib.axes._subplots.AxesSubplot at 0x7f7bf1633bd0>"
            ]
          },
          "metadata": {},
          "execution_count": 97
        },
        {
          "output_type": "display_data",
          "data": {
            "image/png": "[encoded data removed]",
            "text/plain": [
              "<Figure size 432x288 with 1 Axes>"
            ]
          },
          "metadata": {}
        }
      ]
    },
    {
      "cell_type": "code",
      "metadata": {
        "id": "Ke_wcRbOqcH2",
        "colab": {
          "base_uri": "https://localhost:8080/",
          "height": 269
        },
        "outputId": "bf748ca1-f67b-468f-a701-522626b33f2c"
      },
      "source": [
        "'''\n",
        "e) Verifique se há correlação entre os atributos.\n",
        "'''\n",
        "f.corr()"
      ],
      "execution_count": null,
      "outputs": [
        {
          "output_type": "execute_result",
          "data": {
            "text/html": [
              "<div>\n",
              "<style scoped>\n",
              "    .dataframe tbody tr th:only-of-type {\n",
              "        vertical-align: middle;\n",
              "    }\n",
              "\n",
              "    .dataframe tbody tr th {\n",
              "        vertical-align: top;\n",
              "    }\n",
              "\n",
              "    .dataframe thead th {\n",
              "        text-align: right;\n",
              "    }\n",
              "</style>\n",
              "<table border=\"1\" class=\"dataframe\">\n",
              "  <thead>\n",
              "    <tr style=\"text-align: right;\">\n",
              "      <th></th>\n",
              "      <th>PassengerId</th>\n",
              "      <th>Survived</th>\n",
              "      <th>Pclass</th>\n",
              "      <th>Age</th>\n",
              "      <th>SibSp</th>\n",
              "      <th>Parch</th>\n",
              "      <th>Fare</th>\n",
              "    </tr>\n",
              "  </thead>\n",
              "  <tbody>\n",
              "    <tr>\n",
              "      <th>PassengerId</th>\n",
              "      <td>1.000000</td>\n",
              "      <td>-0.005007</td>\n",
              "      <td>-0.035144</td>\n",
              "      <td>0.036847</td>\n",
              "      <td>-0.057527</td>\n",
              "      <td>-0.001652</td>\n",
              "      <td>0.012658</td>\n",
              "    </tr>\n",
              "    <tr>\n",
              "      <th>Survived</th>\n",
              "      <td>-0.005007</td>\n",
              "      <td>1.000000</td>\n",
              "      <td>-0.338481</td>\n",
              "      <td>-0.077221</td>\n",
              "      <td>-0.035322</td>\n",
              "      <td>0.081629</td>\n",
              "      <td>0.257307</td>\n",
              "    </tr>\n",
              "    <tr>\n",
              "      <th>Pclass</th>\n",
              "      <td>-0.035144</td>\n",
              "      <td>-0.338481</td>\n",
              "      <td>1.000000</td>\n",
              "      <td>-0.369226</td>\n",
              "      <td>0.083081</td>\n",
              "      <td>0.018443</td>\n",
              "      <td>-0.549500</td>\n",
              "    </tr>\n",
              "    <tr>\n",
              "      <th>Age</th>\n",
              "      <td>0.036847</td>\n",
              "      <td>-0.077221</td>\n",
              "      <td>-0.369226</td>\n",
              "      <td>1.000000</td>\n",
              "      <td>-0.308247</td>\n",
              "      <td>-0.189119</td>\n",
              "      <td>0.096067</td>\n",
              "    </tr>\n",
              "    <tr>\n",
              "      <th>SibSp</th>\n",
              "      <td>-0.057527</td>\n",
              "      <td>-0.035322</td>\n",
              "      <td>0.083081</td>\n",
              "      <td>-0.308247</td>\n",
              "      <td>1.000000</td>\n",
              "      <td>0.414838</td>\n",
              "      <td>0.159651</td>\n",
              "    </tr>\n",
              "    <tr>\n",
              "      <th>Parch</th>\n",
              "      <td>-0.001652</td>\n",
              "      <td>0.081629</td>\n",
              "      <td>0.018443</td>\n",
              "      <td>-0.189119</td>\n",
              "      <td>0.414838</td>\n",
              "      <td>1.000000</td>\n",
              "      <td>0.216225</td>\n",
              "    </tr>\n",
              "    <tr>\n",
              "      <th>Fare</th>\n",
              "      <td>0.012658</td>\n",
              "      <td>0.257307</td>\n",
              "      <td>-0.549500</td>\n",
              "      <td>0.096067</td>\n",
              "      <td>0.159651</td>\n",
              "      <td>0.216225</td>\n",
              "      <td>1.000000</td>\n",
              "    </tr>\n",
              "  </tbody>\n",
              "</table>\n",
              "</div>"
            ],
            "text/plain": [
              "             PassengerId  Survived    Pclass  ...     SibSp     Parch      Fare\n",
              "PassengerId     1.000000 -0.005007 -0.035144  ... -0.057527 -0.001652  0.012658\n",
              "Survived       -0.005007  1.000000 -0.338481  ... -0.035322  0.081629  0.257307\n",
              "Pclass         -0.035144 -0.338481  1.000000  ...  0.083081  0.018443 -0.549500\n",
              "Age             0.036847 -0.077221 -0.369226  ... -0.308247 -0.189119  0.096067\n",
              "SibSp          -0.057527 -0.035322  0.083081  ...  1.000000  0.414838  0.159651\n",
              "Parch          -0.001652  0.081629  0.018443  ...  0.414838  1.000000  0.216225\n",
              "Fare            0.012658  0.257307 -0.549500  ...  0.159651  0.216225  1.000000\n",
              "\n",
              "[7 rows x 7 columns]"
            ]
          },
          "metadata": {},
          "execution_count": 90
        }
      ]
    }
  ]
}